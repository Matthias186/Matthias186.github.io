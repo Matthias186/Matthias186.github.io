{
  "nbformat": 4,
  "nbformat_minor": 0,
  "metadata": {
    "colab": {
      "name": "D_Region.ipynb",
      "provenance": [],
      "toc_visible": true,
      "mount_file_id": "1Ffc9ukedB6a8eltr0YoN4iQITW1iELCK",
      "authorship_tag": "ABX9TyNa744KKJUYyENZtFeriMcz",
      "include_colab_link": true
    },
    "kernelspec": {
      "name": "python3",
      "display_name": "Python 3"
    },
    "language_info": {
      "name": "python"
    }
  },
  "cells": [
    {
      "cell_type": "markdown",
      "metadata": {
        "id": "view-in-github",
        "colab_type": "text"
      },
      "source": [
        "<a href=\"https://colab.research.google.com/github/Matthias186/Matthias186.github.io/blob/master/D_Region.ipynb\" target=\"_parent\"><img src=\"https://colab.research.google.com/assets/colab-badge.svg\" alt=\"Open In Colab\"/></a>"
      ]
    },
    {
      "cell_type": "markdown",
      "metadata": {
        "id": "6rflDpmLqo7E"
      },
      "source": [
        "# Install Packages"
      ]
    },
    {
      "cell_type": "code",
      "metadata": {
        "id": "Yuew7-HZqwXG"
      },
      "source": [
        "#pip install pyarrow"
      ],
      "execution_count": 58,
      "outputs": []
    },
    {
      "cell_type": "markdown",
      "metadata": {
        "id": "S1xsU2ep8xT5"
      },
      "source": [
        "# Import Packages"
      ]
    },
    {
      "cell_type": "code",
      "metadata": {
        "id": "ZhRxxc0H80qs"
      },
      "source": [
        "import os\n",
        "import pandas as pd\n",
        "\n",
        "from google.colab import drive\n",
        "from google.cloud import bigquery\n",
        "from google.oauth2 import service_account"
      ],
      "execution_count": 59,
      "outputs": []
    },
    {
      "cell_type": "markdown",
      "metadata": {
        "id": "TWQz70hC8R1N"
      },
      "source": [
        "# Mount Drive"
      ]
    },
    {
      "cell_type": "code",
      "metadata": {
        "id": "qAUdU_2870rn"
      },
      "source": [
        "#drive.mount('/content/drive')"
      ],
      "execution_count": 60,
      "outputs": []
    },
    {
      "cell_type": "markdown",
      "metadata": {
        "id": "nNgECpyq8aob"
      },
      "source": [
        "# Extract"
      ]
    },
    {
      "cell_type": "markdown",
      "metadata": {
        "id": "9dJ69ntX-RfN"
      },
      "source": [
        "DE.txt --> df_DE"
      ]
    },
    {
      "cell_type": "code",
      "metadata": {
        "id": "BBkcVMkr8REL"
      },
      "source": [
        "# path = '/content/drive/MyDrive/Data Warehouse/00_Sources/Region/DE.txt'\n",
        "# df_DE = pd.read_csv(path, header=None, sep='\\t',\n",
        "#                     names= ['country_code',\t'postal_code', \t'place_name',\n",
        "#                             'admin_name1',\t'admin_code1',\t'admin_name2',\n",
        "#                             'admin_code2',\t'admin_name3',\t'admin_code3',\n",
        "#                             'latitude',\t'longitude',\t'accuracy'])\n",
        "# #df_DE"
      ],
      "execution_count": 61,
      "outputs": []
    },
    {
      "cell_type": "markdown",
      "metadata": {
        "id": "YKroivjz-7ws"
      },
      "source": [
        "AuszugGV1QAktuell.xlsx --> df_GV"
      ]
    },
    {
      "cell_type": "code",
      "metadata": {
        "id": "zeERSlMo-t-8"
      },
      "source": [
        "# path = '/content/drive/MyDrive/Data Warehouse/00_Sources/Region/AuszugGV1QAktuell.xlsx'\n",
        "# df_GV = pd.read_excel(path, sheet_name= 'Onlineprodukt_Gemeinden',header=5,\n",
        "#                       names=['Satzart', 'Textkennzeichen',\t'Land',\t'RB',\n",
        "#                              'Kreis',\t'VB',\t'Gem',\t'Gemeindename',\t'Flaeche',\n",
        "#                              'Bevoelkerung_insgesamt',\t'Bevoelkerung_maennlich',\n",
        "#                              'Bevoelkerung_weiblich',\t'Bevoelkerung_je_Flaeche',\n",
        "#                              'Postleitzahl',\t'Laengengrad',\t'Breitengrad',\n",
        "#                              'Reisegebiet_Schluessel',\t'Reisegebiet_Bezeichnung',\n",
        "#                              'Verstaeterung_Schluessel',\t'Verstaedterung_Bezeichnung'])\n",
        "# #df_GV"
      ],
      "execution_count": 62,
      "outputs": []
    },
    {
      "cell_type": "markdown",
      "metadata": {
        "id": "y2WbWTztEGHE"
      },
      "source": [
        "# Transform"
      ]
    },
    {
      "cell_type": "markdown",
      "metadata": {
        "id": "e2wCDKosEMNz"
      },
      "source": [
        "# Load"
      ]
    },
    {
      "cell_type": "markdown",
      "metadata": {
        "id": "eg8CQ7vvyCDM"
      },
      "source": [
        "https://jingsblog.com/2018/11/27/connect-your-jupyter-notebook-to-the-bigquery/"
      ]
    },
    {
      "cell_type": "code",
      "metadata": {
        "id": "WexSgfxeqmQD"
      },
      "source": [
        "os.environ['GOOGLE_APPLICATION_CREDENTIALS'] ='/content/drive/MyDrive/Colab Notebooks/DWH/data-warehouse-310713-374eceb69d9b.json'\n",
        "# Instantiates a client for BigQuery Service\n",
        "bq = bigquery.Client()"
      ],
      "execution_count": 63,
      "outputs": []
    },
    {
      "cell_type": "code",
      "metadata": {
        "id": "FepwfI5PnihW"
      },
      "source": [
        "# Query \n",
        "QUERY = \"\"\"\n",
        "SELECT * FROM `data-warehouse-310713.Testing.Counting`\n",
        "\"\"\"\n",
        "job = bq.query(QUERY)\n",
        "df = job.to_dataframe()\n",
        "#df.tail()"
      ],
      "execution_count": 65,
      "outputs": []
    },
    {
      "cell_type": "code",
      "metadata": {
        "id": "E63-UlP-oZbt"
      },
      "source": [
        "last_value = df['ID'].iloc[-1] + 1\n",
        "df = df.append({'ID': last_value}, ignore_index=True)\n",
        "\n",
        "# truncate df \n",
        "#df = pd.DataFrame(data={'ID': [1]})\n",
        "\n",
        "# truncate job\n",
        "job_config = bigquery.LoadJobConfig(\n",
        "    write_disposition=bigquery.WriteDisposition.WRITE_TRUNCATE,\n",
        ")"
      ],
      "execution_count": 66,
      "outputs": []
    },
    {
      "cell_type": "code",
      "metadata": {
        "id": "3l0suGLsifHY"
      },
      "source": [
        "# dataset_id = 'data-warehouse-310713:DWH'\n",
        "# project='data-warehouse-310713'\n",
        "# dataset = bq.dataset(dataset_id=dataset_id, project=project)"
      ],
      "execution_count": 67,
      "outputs": []
    },
    {
      "cell_type": "code",
      "metadata": {
        "id": "MDWc4sJpls_A"
      },
      "source": [
        "table_id = 'Testing.Counting'"
      ],
      "execution_count": 68,
      "outputs": []
    },
    {
      "cell_type": "code",
      "metadata": {
        "colab": {
          "base_uri": "https://localhost:8080/"
        },
        "id": "F_YOIp0Hlw0L",
        "outputId": "6521bc13-e43f-49a0-e856-c941080e04d3"
      },
      "source": [
        "job = bq.load_table_from_dataframe(\n",
        "    df, table_id, job_config=job_config\n",
        ")\n",
        "\n",
        "# Wait for the load job to complete.\n",
        "job.result()"
      ],
      "execution_count": 69,
      "outputs": [
        {
          "output_type": "execute_result",
          "data": {
            "text/plain": [
              "<google.cloud.bigquery.job.LoadJob at 0x7ff9439640d0>"
            ]
          },
          "metadata": {
            "tags": []
          },
          "execution_count": 69
        }
      ]
    }
  ]
}